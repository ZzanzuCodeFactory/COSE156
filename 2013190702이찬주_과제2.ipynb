{
 "cells": [
  {
   "cell_type": "markdown",
   "metadata": {},
   "source": [
    "# 1.\n",
    "```python \n",
    "10%7점\n",
    "```"
   ]
  },
  {
   "cell_type": "markdown",
   "metadata": {},
   "source": [
    "---"
   ]
  },
  {
   "cell_type": "markdown",
   "metadata": {},
   "source": [
    "```\n",
    "Create a program that reads two integers, a and b, from the user. Your program should compute and display:\n",
    "• The sum of a and b\n",
    "• The difference when b is subtracted from a \n",
    "• The product of a and b\n",
    " • The quotient when a is divided by b\n",
    "• The remainder when a is divided by b\n",
    "• The result of log10 a\n",
    "• The result of ab\n",
    "```"
   ]
  },
  {
   "cell_type": "code",
   "execution_count": null,
   "metadata": {},
   "outputs": [],
   "source": [
    "import math\n",
    "\n",
    "a = int(input('a : '))\n",
    "b = int(input('b : '))\n",
    "\n",
    "print('The sum of a and b : ', a+b) # 합\n",
    "print('The difference when b is subtracted from a  : ', a-b) # 뺄셈\n",
    "print('The product of a and b : ', a*b) # 곱\n",
    "print('The quotient when a is divided by b : ', a//b) # 몫\n",
    "print('The remainder when a is divided by b : ', a%b) # 나머지\n",
    "print('The result of log10 a : ', math.log10(a)) # log10\n",
    "print('The result of ab : ', str(a) + str(b)) # ab\n"
   ]
  },
  {
   "cell_type": "markdown",
   "metadata": {},
   "source": [
    "---"
   ]
  },
  {
   "cell_type": "markdown",
   "metadata": {},
   "source": [
    "## 2. \n",
    "```python\n",
    "(True-False+True+True)**2 //3 점\n",
    "이 문제는 금요일 수업 시간에 다시 복습할 내용입니다. 과제로 Markdown을 활용해서 다음 내용을 정리하세요\n",
    "```"
   ]
  },
  {
   "cell_type": "markdown",
   "metadata": {},
   "source": [
    "---"
   ]
  },
  {
   "cell_type": "markdown",
   "metadata": {},
   "source": [
    "```\n",
    "□ variable(변수)보다 왜 identifier(식별자 or name)라고 하는지?\n",
    "□ constant(상수)와 variable의 차이는?\n",
    "□ identifier를 명명하는 규칙은? \n",
    "□ 선언(Declaration)과 할당(Assignment)이란?\n",
    "□ statement(문)와 expression이란?\n",
    "□ = (할당)을 하는 방법\n",
    "□ = 을 했을 때, Python 내부에서 일어나는 일은?\n",
    "□ dynamic typing이란?\n",
    "□ literal 이란?\n",
    "□ literal을 통해서 value(값)을 생성하는 것과 instance화해서 value를 생성하는 것이 차이나는 type은?\n",
    "```"
   ]
  },
  {
   "cell_type": "markdown",
   "metadata": {},
   "source": [
    "### variable(변수)보다 왜 identifier(식별자 or name)라고 하는지?\n",
    "- 변수 : 문자나 숫자같은 값을 담는 컨테이너\n",
    "- 식별자 : 변수, 상수, 함수, 사용자 정의 타입 등에서 다른 것들과 구분하기 위해서 사용되는 이름을 일반화해서 지칭하는 용어\n",
    "\n",
    "### constant(상수)와 variable의 차이는?\n",
    "- constant는 수정할 수 없는 변수이고, variable은 할당과 수정이 자유롭다.\n",
    "\n",
    "### identifier를 명명하는 규칙은?\n",
    "- 클래스명은 Camel Case, 함수명은 소문자로 구성하되 필요하면 밑줄로 나눈다.\n",
    "- 메소드명은 함수명과 같으나 비공개 메소드, 혹은 변수람ㄴ 밑줄을 앞에 붙인다.\n",
    "- 서브 클래스의 이름 충돌을 막기 위해서는 밑줄 2개를 붙인다.\n",
    "- 상수는 모듈 단위에서만 정의하며 모두 대문자에 필요하다면 밑줄로 나눕니다.\n",
    "\n",
    "- Camel Case : 각 단어의 첫 글자를 대문자로 적되, 맨 앞에 오는 글자는 소문자로 표기하는 방식\n",
    "- Pascal Case : 단어의 모든 앞글자를 대문자로 표기하는 방식\n",
    "- Hungarian Notation : 접두어에 자료형을 붙이는 표기 방식\n",
    "- Snake Case : 단어 사이에 언더바를 넣어서 표기하는 방식\n",
    "\n",
    "### 선언(Declaration)과 할당(Assignment)이란?\n",
    "- 변수에 값을 할당할 때 선언은 자동으로 이루어진다.\n",
    "- 할당할 때는 등호(=)를 사용한다.\n",
    "- 할당은 이름을 붙이는 것, 바인딩하는 것.\n",
    "- 선언은 재사용이 가능한 독립적인 단위를 정의하는 것.\n",
    "\n",
    "### statement(문)와 expression이란?\n",
    "- expression : identifier, literal, operator / 값, 값들과 연산자를 함께 사용해서 표현한 것\n",
    "- statement : expression으로 이루어진 하나의 line / 복합문(중첩), 단순문, 제어문, 반복문, 일반문 / 예약어와 표현식을 결합한 패턴\n",
    "\n",
    "### = (할당)을 하는 방법\n",
    "- a = 1 을 하면 1에 'a'라는 이름을 붙이게됨\n",
    "\n",
    "### = 을 했을 때, Python 내부에서 일어나는 일은?\n",
    "- 하나의 값에 이름을 붙임.(54페이지)\n",
    "\n",
    "### dynamic typing이란?\n",
    "- 변수에 값을 binding할 때마다 그 값의 타입에 따라 타입이 바뀌는 것.\n",
    "\n",
    "### literal 이란?\n",
    "- 값, 기호로 고정된 값을 대표\n",
    "- ex) long : 4321l / float : f, binary : b\n",
    "\n",
    "### literal을 통해서 value(값)을 생성하는 것과 instance화해서 value를 생성하는 것이 차이나는 type은?\n",
    "- 잘 모르겠습니다... 수업 때 잘 듣겠습니다."
   ]
  },
  {
   "cell_type": "markdown",
   "metadata": {},
   "source": [
    "# 3.\n",
    "```python\n",
    "1e-1000 + 2점\n",
    "```"
   ]
  },
  {
   "cell_type": "markdown",
   "metadata": {},
   "source": [
    "---"
   ]
  },
  {
   "cell_type": "markdown",
   "metadata": {},
   "source": [
    "```\n",
    "Develop a program that begins by reading a number of seconds from the user. Then your program should display the equivalent amount of time in the form D:HH:MM:SS, where D, HH, MM, and SS represent days, hours, minutes and seconds respectively. \n",
    "```"
   ]
  },
  {
   "cell_type": "code",
   "execution_count": null,
   "metadata": {},
   "outputs": [],
   "source": [
    "seconds = int(input('number of seconds : '))\n",
    "\n",
    "# 1분 - 60 / 1시간 - 3600 / 1일 - 43200\n",
    "\n",
    "DD = str(seconds // 43200  % 60)\n",
    "HH = str((seconds % 43200) // 3600 % 60) \n",
    "MM = str(((seconds % 43200) % 3600) // 60 % 60) \n",
    "SS = str((((seconds % 43200) % 3600) % 60) % 60)\n",
    "\n",
    "print(DD + \":\" + HH + \":\" + MM + \":\" + SS)"
   ]
  },
  {
   "cell_type": "markdown",
   "metadata": {},
   "source": [
    "---"
   ]
  },
  {
   "cell_type": "markdown",
   "metadata": {},
   "source": [
    "# 4. \n",
    "```python \n",
    "if you in ['모두를위한파이썬'] : print(5) 점\n",
    "```"
   ]
  },
  {
   "cell_type": "markdown",
   "metadata": {},
   "source": [
    "다음 link에서 [3.1. 파이썬을 계산기로 사용하기]의 code를 jupyter notebook에서 실행시켜 보세요. \n",
    "_ 의 의미와, 문자열 일부 내용은 아직 수업 시간에 하지 않았습니다. 만약 이해가 가질 않는다면 실행이라도"
   ]
  },
  {
   "cell_type": "markdown",
   "metadata": {},
   "source": [
    "https://docs.python.org/ko/3/tutorial/introduction.html"
   ]
  },
  {
   "cell_type": "markdown",
   "metadata": {},
   "source": [
    "#### 실행 완료. "
   ]
  },
  {
   "cell_type": "code",
   "execution_count": null,
   "metadata": {},
   "outputs": [],
   "source": []
  }
 ],
 "metadata": {
  "kernelspec": {
   "display_name": "Python 3",
   "language": "python",
   "name": "python3"
  },
  "language_info": {
   "codemirror_mode": {
    "name": "ipython",
    "version": 3
   },
   "file_extension": ".py",
   "mimetype": "text/x-python",
   "name": "python",
   "nbconvert_exporter": "python",
   "pygments_lexer": "ipython3",
   "version": "3.6.5"
  }
 },
 "nbformat": 4,
 "nbformat_minor": 2
}
