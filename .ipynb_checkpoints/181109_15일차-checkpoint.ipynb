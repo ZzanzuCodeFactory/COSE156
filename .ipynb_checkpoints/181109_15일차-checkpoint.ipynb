{
 "cells": [
  {
   "cell_type": "markdown",
   "metadata": {},
   "source": [
    "# pyplot 예제 파일 설명"
   ]
  },
  {
   "cell_type": "markdown",
   "metadata": {},
   "source": [
    "import 5가지 방법\n",
    "- import @@\n",
    "- import 상위.하위\n",
    "- import @@ as # : 기능을 간략하게 표현해줄 때 as 사용\n",
    "- "
   ]
  },
  {
   "cell_type": "code",
   "execution_count": null,
   "metadata": {},
   "outputs": [],
   "source": [
    "import keyword as k\n",
    "k.__name__ # 본래 이름(__name__)은 변하지 않음"
   ]
  },
  {
   "cell_type": "markdown",
   "metadata": {},
   "source": [
    "shift + tab눌러서 나온 설명에서 [ ] 로 둘러싸인 놈들은 option의 이미이지 list의 의미가 아니다"
   ]
  },
  {
   "cell_type": "markdown",
   "metadata": {},
   "source": [
    "# 에러"
   ]
  },
  {
   "cell_type": "markdown",
   "metadata": {},
   "source": [
    "# EAFP : 일단 저지르고 나중에 체크하기"
   ]
  },
  {
   "cell_type": "code",
   "execution_count": null,
   "metadata": {},
   "outputs": [],
   "source": [
    "try:\n",
    "    a = int(input(\"숫자를 입력하세요 : \")) # composition 방식(int + input)\n",
    "except ValueError as e: # Value Error만 체크하겠다.\n",
    "    print('excep : !', e)\n",
    "    a = int(input(\"숫자를 다시 입력하세요 : \")) # except에서는 다시 try로 가지 않음(두번 이상 에러체크 안됨)\n",
    "except :\n",
    "    print('여러개의 except를 인지할 수 있군')\n",
    "else:\n",
    "    print('잘 입력함!')\n",
    "finally:\n",
    "    print('끝')        "
   ]
  },
  {
   "cell_type": "code",
   "execution_count": null,
   "metadata": {},
   "outputs": [],
   "source": [
    "b = 3"
   ]
  },
  {
   "cell_type": "code",
   "execution_count": null,
   "metadata": {},
   "outputs": [],
   "source": [
    "isinstance(b, int)"
   ]
  },
  {
   "cell_type": "code",
   "execution_count": null,
   "metadata": {},
   "outputs": [],
   "source": [
    "# 입력 잘 받을 때까지 계속 에러 체크\n",
    "while True :\n",
    "    try :\n",
    "        a = int(input(\"숫자를 입력하세요 : \"))\n",
    "    except :\n",
    "        continue\n",
    "    else :\n",
    "        print('끝')\n",
    "        break"
   ]
  },
  {
   "cell_type": "code",
   "execution_count": null,
   "metadata": {},
   "outputs": [],
   "source": [
    " # accumulation pattern\n",
    "temp = []\n",
    "for i in dir(__builtin__) :\n",
    "    if 'Error' in i :\n",
    "        temp.append(i)"
   ]
  },
  {
   "cell_type": "code",
   "execution_count": null,
   "metadata": {},
   "outputs": [],
   "source": [
    "import inspect"
   ]
  },
  {
   "cell_type": "code",
   "execution_count": null,
   "metadata": {},
   "outputs": [],
   "source": [
    "print(inspect.getsource(input)"
   ]
  },
  {
   "cell_type": "code",
   "execution_count": null,
   "metadata": {},
   "outputs": [],
   "source": []
  }
 ],
 "metadata": {
  "kernelspec": {
   "display_name": "Python 3",
   "language": "python",
   "name": "python3"
  },
  "language_info": {
   "codemirror_mode": {
    "name": "ipython",
    "version": 3
   },
   "file_extension": ".py",
   "mimetype": "text/x-python",
   "name": "python",
   "nbconvert_exporter": "python",
   "pygments_lexer": "ipython3",
   "version": "3.6.5"
  }
 },
 "nbformat": 4,
 "nbformat_minor": 2
}
