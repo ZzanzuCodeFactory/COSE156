{
 "cells": [
  {
   "cell_type": "code",
   "execution_count": 0,
   "metadata": {
    "colab": {},
    "colab_type": "code",
    "id": "pFqyS-yRFyLo"
   },
   "outputs": [],
   "source": [
    "b = enumerate([1,2,3])"
   ]
  },
  {
   "cell_type": "code",
   "execution_count": 2,
   "metadata": {
    "colab": {
     "base_uri": "https://localhost:8080/",
     "height": 34
    },
    "colab_type": "code",
    "executionInfo": {
     "elapsed": 652,
     "status": "ok",
     "timestamp": 1541123082294,
     "user": {
      "displayName": "DAYGLO LEE",
      "photoUrl": "https://lh6.googleusercontent.com/-Nv0VqDWa_kg/AAAAAAAAAAI/AAAAAAAAAQU/nhYHxbAd-5k/s64/photo.jpg",
      "userId": "15311989518633943639"
     },
     "user_tz": -540
    },
    "id": "SDe4rQD9F-tP",
    "outputId": "ca93f61d-cf48-44fe-a370-7a2ae07640de"
   },
   "outputs": [
    {
     "data": {
      "text/plain": [
       "enumerate"
      ]
     },
     "execution_count": 2,
     "metadata": {
      "tags": []
     },
     "output_type": "execute_result"
    }
   ],
   "source": [
    "type(b)"
   ]
  },
  {
   "cell_type": "code",
   "execution_count": 0,
   "metadata": {
    "colab": {},
    "colab_type": "code",
    "id": "cfJWmaAJF_Rc"
   },
   "outputs": [],
   "source": [
    "a = ['a', 'b', 'c']"
   ]
  },
  {
   "cell_type": "code",
   "execution_count": 0,
   "metadata": {
    "colab": {},
    "colab_type": "code",
    "id": "6FWH6Wu4Gu8g"
   },
   "outputs": [],
   "source": [
    "c = [1, 2, 3]"
   ]
  },
  {
   "cell_type": "markdown",
   "metadata": {
    "colab_type": "text",
    "id": "k61Yjem9HAD3"
   },
   "source": [
    "### zip : 묶어줌, 개수 안맞으면 작은거 기준으로 맞춰줌"
   ]
  },
  {
   "cell_type": "markdown",
   "metadata": {
    "colab_type": "text",
    "id": "1r7Cc_6jHQlI"
   },
   "source": [
    "### 긴거 기준으로 맞춰주고싶으면 itertools라이브러리의 zip_longest 실행"
   ]
  },
  {
   "cell_type": "code",
   "execution_count": 0,
   "metadata": {
    "colab": {},
    "colab_type": "code",
    "id": "Ty8xuuX_Gd7D"
   },
   "outputs": [],
   "source": [
    "y = zip(a, c)"
   ]
  },
  {
   "cell_type": "code",
   "execution_count": 12,
   "metadata": {
    "colab": {
     "base_uri": "https://localhost:8080/",
     "height": 34
    },
    "colab_type": "code",
    "executionInfo": {
     "elapsed": 823,
     "status": "ok",
     "timestamp": 1541123329821,
     "user": {
      "displayName": "DAYGLO LEE",
      "photoUrl": "https://lh6.googleusercontent.com/-Nv0VqDWa_kg/AAAAAAAAAAI/AAAAAAAAAQU/nhYHxbAd-5k/s64/photo.jpg",
      "userId": "15311989518633943639"
     },
     "user_tz": -540
    },
    "id": "OW14_SkXGfUT",
    "outputId": "88f9b9b5-d6fb-45af-ff91-052e47b22772"
   },
   "outputs": [
    {
     "data": {
      "text/plain": [
       "<zip at 0x7f162230af08>"
      ]
     },
     "execution_count": 12,
     "metadata": {
      "tags": []
     },
     "output_type": "execute_result"
    }
   ],
   "source": [
    "y # 결과에 < >가 있으면 이터레이터일 확률이 높다"
   ]
  },
  {
   "cell_type": "code",
   "execution_count": 13,
   "metadata": {
    "colab": {
     "base_uri": "https://localhost:8080/",
     "height": 34
    },
    "colab_type": "code",
    "executionInfo": {
     "elapsed": 634,
     "status": "ok",
     "timestamp": 1541123331705,
     "user": {
      "displayName": "DAYGLO LEE",
      "photoUrl": "https://lh6.googleusercontent.com/-Nv0VqDWa_kg/AAAAAAAAAAI/AAAAAAAAAQU/nhYHxbAd-5k/s64/photo.jpg",
      "userId": "15311989518633943639"
     },
     "user_tz": -540
    },
    "id": "IlXCW_HKGgFr",
    "outputId": "f736daae-3162-4f89-c2b4-63cf39e16d44"
   },
   "outputs": [
    {
     "data": {
      "text/plain": [
       "('c', 3)"
      ]
     },
     "execution_count": 13,
     "metadata": {
      "tags": []
     },
     "output_type": "execute_result"
    }
   ],
   "source": [
    "next(y)"
   ]
  },
  {
   "cell_type": "code",
   "execution_count": 16,
   "metadata": {
    "colab": {
     "base_uri": "https://localhost:8080/",
     "height": 34
    },
    "colab_type": "code",
    "executionInfo": {
     "elapsed": 658,
     "status": "ok",
     "timestamp": 1541123456466,
     "user": {
      "displayName": "DAYGLO LEE",
      "photoUrl": "https://lh6.googleusercontent.com/-Nv0VqDWa_kg/AAAAAAAAAAI/AAAAAAAAAQU/nhYHxbAd-5k/s64/photo.jpg",
      "userId": "15311989518633943639"
     },
     "user_tz": -540
    },
    "id": "3Qu_9RLsGnfT",
    "outputId": "f4eef920-051d-4b94-970f-e581e176194f"
   },
   "outputs": [
    {
     "data": {
      "text/plain": [
       "('a', 1)"
      ]
     },
     "execution_count": 16,
     "metadata": {
      "tags": []
     },
     "output_type": "execute_result"
    }
   ],
   "source": [
    "next(y)"
   ]
  },
  {
   "cell_type": "markdown",
   "metadata": {
    "colab_type": "text",
    "id": "rU5Xc4AKG1Aq"
   },
   "source": [
    "이터레이터를 사용하면 속도도 빠르고 메모리도 절약할 수 있어서(매번 삭제하면서 실행) 함수형 프로그래밍에서 많이 쓴다"
   ]
  },
  {
   "cell_type": "markdown",
   "metadata": {
    "colab_type": "text",
    "id": "liHkt8u0HjX8"
   },
   "source": [
    "### map(함수이름(또는 람다 이용), 이 함수를 이용할 전체 값)"
   ]
  },
  {
   "cell_type": "code",
   "execution_count": 20,
   "metadata": {
    "colab": {
     "base_uri": "https://localhost:8080/",
     "height": 34
    },
    "colab_type": "code",
    "executionInfo": {
     "elapsed": 637,
     "status": "ok",
     "timestamp": 1541123597054,
     "user": {
      "displayName": "DAYGLO LEE",
      "photoUrl": "https://lh6.googleusercontent.com/-Nv0VqDWa_kg/AAAAAAAAAAI/AAAAAAAAAQU/nhYHxbAd-5k/s64/photo.jpg",
      "userId": "15311989518633943639"
     },
     "user_tz": -540
    },
    "id": "xkCQPY2iH7pi",
    "outputId": "e80922f9-1ecc-467d-b39f-390462fb167b"
   },
   "outputs": [
    {
     "data": {
      "text/plain": [
       "<map at 0x7f1621fe5240>"
      ]
     },
     "execution_count": 20,
     "metadata": {
      "tags": []
     },
     "output_type": "execute_result"
    }
   ],
   "source": [
    "map(lambda x:x+1, c) # <>가 나오는거보니 이터레이터겠군"
   ]
  },
  {
   "cell_type": "code",
   "execution_count": 21,
   "metadata": {
    "colab": {
     "base_uri": "https://localhost:8080/",
     "height": 34
    },
    "colab_type": "code",
    "executionInfo": {
     "elapsed": 693,
     "status": "ok",
     "timestamp": 1541123597804,
     "user": {
      "displayName": "DAYGLO LEE",
      "photoUrl": "https://lh6.googleusercontent.com/-Nv0VqDWa_kg/AAAAAAAAAAI/AAAAAAAAAQU/nhYHxbAd-5k/s64/photo.jpg",
      "userId": "15311989518633943639"
     },
     "user_tz": -540
    },
    "id": "UnAmNq9lGy57",
    "outputId": "1e667cc0-df22-4b65-e53c-72607235cb86"
   },
   "outputs": [
    {
     "data": {
      "text/plain": [
       "[2, 3, 4]"
      ]
     },
     "execution_count": 21,
     "metadata": {
      "tags": []
     },
     "output_type": "execute_result"
    }
   ],
   "source": [
    "list(map(lambda x:x+1, c))"
   ]
  },
  {
   "cell_type": "markdown",
   "metadata": {
    "colab_type": "text",
    "id": "usQUDqxgJmOQ"
   },
   "source": [
    "### Generator : 이터레이터"
   ]
  },
  {
   "cell_type": "code",
   "execution_count": 0,
   "metadata": {
    "colab": {},
    "colab_type": "code",
    "id": "Tae8CAiEHyNc"
   },
   "outputs": [],
   "source": [
    "def xxx() :\n",
    "    yield 1\n",
    "    yield 'a'"
   ]
  },
  {
   "cell_type": "code",
   "execution_count": 23,
   "metadata": {
    "colab": {
     "base_uri": "https://localhost:8080/",
     "height": 34
    },
    "colab_type": "code",
    "executionInfo": {
     "elapsed": 564,
     "status": "ok",
     "timestamp": 1541123943970,
     "user": {
      "displayName": "DAYGLO LEE",
      "photoUrl": "https://lh6.googleusercontent.com/-Nv0VqDWa_kg/AAAAAAAAAAI/AAAAAAAAAQU/nhYHxbAd-5k/s64/photo.jpg",
      "userId": "15311989518633943639"
     },
     "user_tz": -540
    },
    "id": "QzA-IjxYJRY7",
    "outputId": "7a2da271-c7ca-4fab-8776-a4afcee7a3d8"
   },
   "outputs": [
    {
     "data": {
      "text/plain": [
       "function"
      ]
     },
     "execution_count": 23,
     "metadata": {
      "tags": []
     },
     "output_type": "execute_result"
    }
   ],
   "source": [
    "type(xxx)"
   ]
  },
  {
   "cell_type": "code",
   "execution_count": 0,
   "metadata": {
    "colab": {},
    "colab_type": "code",
    "id": "dgF7RUFoJSuq"
   },
   "outputs": [],
   "source": [
    "z = xxx()"
   ]
  },
  {
   "cell_type": "code",
   "execution_count": 28,
   "metadata": {
    "colab": {
     "base_uri": "https://localhost:8080/",
     "height": 34
    },
    "colab_type": "code",
    "executionInfo": {
     "elapsed": 663,
     "status": "ok",
     "timestamp": 1541123976545,
     "user": {
      "displayName": "DAYGLO LEE",
      "photoUrl": "https://lh6.googleusercontent.com/-Nv0VqDWa_kg/AAAAAAAAAAI/AAAAAAAAAQU/nhYHxbAd-5k/s64/photo.jpg",
      "userId": "15311989518633943639"
     },
     "user_tz": -540
    },
    "id": "AxBorqsSJTky",
    "outputId": "024aef03-cba9-4ff5-d415-853f21f559b3"
   },
   "outputs": [
    {
     "data": {
      "text/plain": [
       "generator"
      ]
     },
     "execution_count": 28,
     "metadata": {
      "tags": []
     },
     "output_type": "execute_result"
    }
   ],
   "source": [
    "type(z)"
   ]
  },
  {
   "cell_type": "code",
   "execution_count": 29,
   "metadata": {
    "colab": {
     "base_uri": "https://localhost:8080/",
     "height": 34
    },
    "colab_type": "code",
    "executionInfo": {
     "elapsed": 615,
     "status": "ok",
     "timestamp": 1541123981649,
     "user": {
      "displayName": "DAYGLO LEE",
      "photoUrl": "https://lh6.googleusercontent.com/-Nv0VqDWa_kg/AAAAAAAAAAI/AAAAAAAAAQU/nhYHxbAd-5k/s64/photo.jpg",
      "userId": "15311989518633943639"
     },
     "user_tz": -540
    },
    "id": "tMBzIGVNJVGr",
    "outputId": "cc9d0aea-9419-41ad-f46d-3614a171762b"
   },
   "outputs": [
    {
     "data": {
      "text/plain": [
       "1"
      ]
     },
     "execution_count": 29,
     "metadata": {
      "tags": []
     },
     "output_type": "execute_result"
    }
   ],
   "source": [
    "next(z)"
   ]
  },
  {
   "cell_type": "code",
   "execution_count": 30,
   "metadata": {
    "colab": {
     "base_uri": "https://localhost:8080/",
     "height": 34
    },
    "colab_type": "code",
    "executionInfo": {
     "elapsed": 598,
     "status": "ok",
     "timestamp": 1541123985486,
     "user": {
      "displayName": "DAYGLO LEE",
      "photoUrl": "https://lh6.googleusercontent.com/-Nv0VqDWa_kg/AAAAAAAAAAI/AAAAAAAAAQU/nhYHxbAd-5k/s64/photo.jpg",
      "userId": "15311989518633943639"
     },
     "user_tz": -540
    },
    "id": "pAZmyPiwJb6r",
    "outputId": "7d331430-cd86-4e3f-cc1d-373d2168d12b"
   },
   "outputs": [
    {
     "data": {
      "text/plain": [
       "'a'"
      ]
     },
     "execution_count": 30,
     "metadata": {
      "tags": []
     },
     "output_type": "execute_result"
    }
   ],
   "source": [
    "next(z)"
   ]
  },
  {
   "cell_type": "code",
   "execution_count": 32,
   "metadata": {
    "colab": {
     "base_uri": "https://localhost:8080/",
     "height": 164
    },
    "colab_type": "code",
    "executionInfo": {
     "elapsed": 597,
     "status": "error",
     "timestamp": 1541123996726,
     "user": {
      "displayName": "DAYGLO LEE",
      "photoUrl": "https://lh6.googleusercontent.com/-Nv0VqDWa_kg/AAAAAAAAAAI/AAAAAAAAAQU/nhYHxbAd-5k/s64/photo.jpg",
      "userId": "15311989518633943639"
     },
     "user_tz": -540
    },
    "id": "D2fMPfGsJc27",
    "outputId": "6b52fa70-a066-4373-ce76-6cdda67bd96c"
   },
   "outputs": [
    {
     "ename": "StopIteration",
     "evalue": "ignored",
     "output_type": "error",
     "traceback": [
      "\u001b[0;31m---------------------------------------------------------------------------\u001b[0m",
      "\u001b[0;31mStopIteration\u001b[0m                             Traceback (most recent call last)",
      "\u001b[0;32m<ipython-input-32-cf9ac561a401>\u001b[0m in \u001b[0;36m<module>\u001b[0;34m()\u001b[0m\n\u001b[0;32m----> 1\u001b[0;31m \u001b[0mnext\u001b[0m\u001b[0;34m(\u001b[0m\u001b[0mz\u001b[0m\u001b[0;34m)\u001b[0m\u001b[0;34m\u001b[0m\u001b[0m\n\u001b[0m",
      "\u001b[0;31mStopIteration\u001b[0m: "
     ]
    }
   ],
   "source": [
    "next(z)"
   ]
  },
  {
   "cell_type": "markdown",
   "metadata": {
    "colab_type": "text",
    "id": "bxSY0TG7J92Z"
   },
   "source": [
    "### Comprehension"
   ]
  },
  {
   "cell_type": "code",
   "execution_count": 34,
   "metadata": {
    "colab": {
     "base_uri": "https://localhost:8080/",
     "height": 34
    },
    "colab_type": "code",
    "executionInfo": {
     "elapsed": 737,
     "status": "ok",
     "timestamp": 1541124174319,
     "user": {
      "displayName": "DAYGLO LEE",
      "photoUrl": "https://lh6.googleusercontent.com/-Nv0VqDWa_kg/AAAAAAAAAAI/AAAAAAAAAQU/nhYHxbAd-5k/s64/photo.jpg",
      "userId": "15311989518633943639"
     },
     "user_tz": -540
    },
    "id": "mgTcpbtdJd_S",
    "outputId": "d2385aa3-7fb9-4078-8ee0-3cc59b457202"
   },
   "outputs": [
    {
     "name": "stdout",
     "output_type": "stream",
     "text": [
      "[0, 1, 2, 3, 4, 5, 6, 7, 8, 9]\n"
     ]
    }
   ],
   "source": [
    "temp = []\n",
    "for i in range(10) : # accumulation 패턴\n",
    "    temp.append(i)\n",
    "else :\n",
    "    print(temp)"
   ]
  },
  {
   "cell_type": "code",
   "execution_count": 41,
   "metadata": {
    "colab": {
     "base_uri": "https://localhost:8080/",
     "height": 34
    },
    "colab_type": "code",
    "executionInfo": {
     "elapsed": 614,
     "status": "ok",
     "timestamp": 1541124445640,
     "user": {
      "displayName": "DAYGLO LEE",
      "photoUrl": "https://lh6.googleusercontent.com/-Nv0VqDWa_kg/AAAAAAAAAAI/AAAAAAAAAQU/nhYHxbAd-5k/s64/photo.jpg",
      "userId": "15311989518633943639"
     },
     "user_tz": -540
    },
    "id": "K7azfC55KHeU",
    "outputId": "f34c913d-ec27-4878-bd1d-e3d24e36067f"
   },
   "outputs": [
    {
     "data": {
      "text/plain": [
       "[0, 1, 2, 3, 4, 5, 6, 7, 8, 9]"
      ]
     },
     "execution_count": 41,
     "metadata": {
      "tags": []
     },
     "output_type": "execute_result"
    }
   ],
   "source": [
    "[y for y in range(10)] # 위에꺼를 한줄로!"
   ]
  },
  {
   "cell_type": "code",
   "execution_count": 40,
   "metadata": {
    "colab": {
     "base_uri": "https://localhost:8080/",
     "height": 34
    },
    "colab_type": "code",
    "executionInfo": {
     "elapsed": 608,
     "status": "ok",
     "timestamp": 1541124409917,
     "user": {
      "displayName": "DAYGLO LEE",
      "photoUrl": "https://lh6.googleusercontent.com/-Nv0VqDWa_kg/AAAAAAAAAAI/AAAAAAAAAQU/nhYHxbAd-5k/s64/photo.jpg",
      "userId": "15311989518633943639"
     },
     "user_tz": -540
    },
    "id": "ivxTgi4uKnl6",
    "outputId": "8acbfd01-c396-451d-89b7-d4bb8d5e902c"
   },
   "outputs": [
    {
     "data": {
      "text/plain": [
       "[0, 2, 4, 6, 8]"
      ]
     },
     "execution_count": 40,
     "metadata": {
      "tags": []
     },
     "output_type": "execute_result"
    }
   ],
   "source": [
    "[yy for yy in range(10) if yy%2 == 0] # 짱 좋음, 하지만 복잡한 if문은 못써줌"
   ]
  },
  {
   "cell_type": "markdown",
   "metadata": {
    "colab_type": "text",
    "id": "W_KhFmjvMcXB"
   },
   "source": [
    "### tuple은 comprehension이 없다"
   ]
  },
  {
   "cell_type": "markdown",
   "metadata": {
    "colab_type": "text",
    "id": "vPbbtef1MgLF"
   },
   "source": [
    "### high order function : function을 인자값과 리턴할 수 있다\n",
    "ex ) filter"
   ]
  },
  {
   "cell_type": "code",
   "execution_count": 0,
   "metadata": {
    "colab": {},
    "colab_type": "code",
    "id": "c5LxnJEbLEeW"
   },
   "outputs": [],
   "source": [
    "def x(a) :\n",
    "    if a > 0 :\n",
    "        return True\n",
    "    else :\n",
    "        return False"
   ]
  },
  {
   "cell_type": "code",
   "execution_count": 48,
   "metadata": {
    "colab": {
     "base_uri": "https://localhost:8080/",
     "height": 34
    },
    "colab_type": "code",
    "executionInfo": {
     "elapsed": 767,
     "status": "ok",
     "timestamp": 1541124964608,
     "user": {
      "displayName": "DAYGLO LEE",
      "photoUrl": "https://lh6.googleusercontent.com/-Nv0VqDWa_kg/AAAAAAAAAAI/AAAAAAAAAQU/nhYHxbAd-5k/s64/photo.jpg",
      "userId": "15311989518633943639"
     },
     "user_tz": -540
    },
    "id": "UjmjRVL2M7MU",
    "outputId": "592387c0-5231-415f-ac32-eb08ab86dc4a"
   },
   "outputs": [
    {
     "data": {
      "text/plain": [
       "[1, 2, 4]"
      ]
     },
     "execution_count": 48,
     "metadata": {
      "tags": []
     },
     "output_type": "execute_result"
    }
   ],
   "source": [
    "list(filter(x, [-1, 1, 2, 4]))"
   ]
  },
  {
   "cell_type": "markdown",
   "metadata": {
    "colab_type": "text",
    "id": "vvqX5xeKNR9q"
   },
   "source": [
    "### reduce, reduction : 몇개 이상의 값을 하나로 줄임"
   ]
  },
  {
   "cell_type": "code",
   "execution_count": 0,
   "metadata": {
    "colab": {},
    "colab_type": "code",
    "id": "12E4VfiQNAhT"
   },
   "outputs": [],
   "source": [
    "from functools import reduce"
   ]
  },
  {
   "cell_type": "code",
   "execution_count": 51,
   "metadata": {
    "colab": {
     "base_uri": "https://localhost:8080/",
     "height": 34
    },
    "colab_type": "code",
    "executionInfo": {
     "elapsed": 714,
     "status": "ok",
     "timestamp": 1541125071568,
     "user": {
      "displayName": "DAYGLO LEE",
      "photoUrl": "https://lh6.googleusercontent.com/-Nv0VqDWa_kg/AAAAAAAAAAI/AAAAAAAAAQU/nhYHxbAd-5k/s64/photo.jpg",
      "userId": "15311989518633943639"
     },
     "user_tz": -540
    },
    "id": "1icfZvnnNQWZ",
    "outputId": "6fa169d1-264b-4b7f-84fc-9077a3b5dd83"
   },
   "outputs": [
    {
     "data": {
      "text/plain": [
       "10"
      ]
     },
     "execution_count": 51,
     "metadata": {
      "tags": []
     },
     "output_type": "execute_result"
    }
   ],
   "source": [
    "reduce(lambda x,y:x+y, [1,2,3,4]) # ((1+2)+3)+4"
   ]
  },
  {
   "cell_type": "markdown",
   "metadata": {
    "colab_type": "text",
    "id": "flRVQBvQOBxO"
   },
   "source": [
    "# First-class Funtion\n",
    "closure, decorator, nested(함수 안에 함수를 정의, LEBG 강의자료 참고)"
   ]
  },
  {
   "cell_type": "code",
   "execution_count": 0,
   "metadata": {
    "colab": {},
    "colab_type": "code",
    "id": "85da0kuoNe__"
   },
   "outputs": [],
   "source": [
    "def b():\n",
    "    return 'sun'"
   ]
  },
  {
   "cell_type": "code",
   "execution_count": 0,
   "metadata": {
    "colab": {},
    "colab_type": "code",
    "id": "5QhEck9gOTZx"
   },
   "outputs": [],
   "source": [
    "a = [b, b, b]"
   ]
  },
  {
   "cell_type": "code",
   "execution_count": 55,
   "metadata": {
    "colab": {
     "base_uri": "https://localhost:8080/",
     "height": 34
    },
    "colab_type": "code",
    "executionInfo": {
     "elapsed": 834,
     "status": "ok",
     "timestamp": 1541125287690,
     "user": {
      "displayName": "DAYGLO LEE",
      "photoUrl": "https://lh6.googleusercontent.com/-Nv0VqDWa_kg/AAAAAAAAAAI/AAAAAAAAAQU/nhYHxbAd-5k/s64/photo.jpg",
      "userId": "15311989518633943639"
     },
     "user_tz": -540
    },
    "id": "lpuH7G3lOXCw",
    "outputId": "cc32717b-1ec9-47e3-9e33-84a2be600102"
   },
   "outputs": [
    {
     "data": {
      "text/plain": [
       "<function __main__.b>"
      ]
     },
     "execution_count": 55,
     "metadata": {
      "tags": []
     },
     "output_type": "execute_result"
    }
   ],
   "source": [
    "a[1]"
   ]
  },
  {
   "cell_type": "markdown",
   "metadata": {
    "colab_type": "text",
    "id": "nrAxgUnrR4fI"
   },
   "source": [
    "## 할당 방법 7가지\n",
    "*  a = 1\n",
    "*  a, b = 1, 2\n",
    "*  a = b = 1\n",
    "*  global(함수형 패러다임에서는 쓰지말자)\n",
    "*  nonlocal(함수형 패러다임에서는 쓰지말자)\n",
    "\n",
    "\n"
   ]
  },
  {
   "cell_type": "code",
   "execution_count": 0,
   "metadata": {
    "colab": {},
    "colab_type": "code",
    "id": "g_N591w1Oat-"
   },
   "outputs": [],
   "source": []
  }
 ],
 "metadata": {
  "colab": {
   "name": "181102_13일차.ipynb",
   "provenance": [],
   "version": "0.3.2"
  },
  "kernelspec": {
   "display_name": "Python 3",
   "language": "python",
   "name": "python3"
  },
  "language_info": {
   "codemirror_mode": {
    "name": "ipython",
    "version": 3
   },
   "file_extension": ".py",
   "mimetype": "text/x-python",
   "name": "python",
   "nbconvert_exporter": "python",
   "pygments_lexer": "ipython3",
   "version": "3.6.5"
  }
 },
 "nbformat": 4,
 "nbformat_minor": 1
}
