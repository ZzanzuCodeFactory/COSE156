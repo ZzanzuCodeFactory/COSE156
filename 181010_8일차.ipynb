{
 "cells": [
  {
   "cell_type": "markdown",
   "metadata": {},
   "source": [
    "#### for 임시변수 in iterable(str, bytearray, tuple, set, list, ...)"
   ]
  },
  {
   "cell_type": "code",
   "execution_count": null,
   "metadata": {},
   "outputs": [],
   "source": [
    "for i in iterable :\n",
    "    pass #일단 자리만 체워놓는 의미의 pass"
   ]
  },
  {
   "cell_type": "code",
   "execution_count": null,
   "metadata": {},
   "outputs": [],
   "source": [
    "for i in 'abcedf' :\n",
    "    pass"
   ]
  },
  {
   "cell_type": "markdown",
   "metadata": {},
   "source": [
    "#### all( ) : 하나라도 거짓이면 거짓을 리턴"
   ]
  },
  {
   "cell_type": "code",
   "execution_count": null,
   "metadata": {},
   "outputs": [],
   "source": [
    "# all 과 같은 결과를 보여주는 for문을 만들어보자\n",
    "\n",
    "x = ['a', 'cdefd', None]\n",
    "temp = False\n",
    "\n",
    "for i in x :\n",
    "    if i :\n",
    "        temp = True\n",
    "    else :\n",
    "        temp = False\n",
    "        break # 중단하기\n",
    "            \n",
    "print(temp)"
   ]
  },
  {
   "cell_type": "markdown",
   "metadata": {},
   "source": [
    "#### any( ) : 하나라도 true라면 true를 반환"
   ]
  },
  {
   "cell_type": "code",
   "execution_count": null,
   "metadata": {},
   "outputs": [],
   "source": [
    "a = input()\n",
    "\n",
    "for i in a :\n",
    "    if i == 'a' or i =='e' or i =='i' or i =='o' or i =='u' :\n",
    "        print(i)"
   ]
  },
  {
   "cell_type": "markdown",
   "metadata": {},
   "source": [
    "#### in 사용하기"
   ]
  },
  {
   "cell_type": "code",
   "execution_count": null,
   "metadata": {},
   "outputs": [],
   "source": [
    "b = input()\n",
    "temp = [] # 리스트 - 1) sequence : 인덱싱, 슬라이싱 / 2)mutable : append\n",
    "\n",
    "for i in b :\n",
    "    if i in ['a','e','i','o','u'] :\n",
    "        temp.append(i) # accumulating pattern"
   ]
  },
  {
   "cell_type": "code",
   "execution_count": null,
   "metadata": {},
   "outputs": [],
   "source": [
    "a = 'hihihi'\n",
    "a += 'lolo'\n",
    "print(a)"
   ]
  },
  {
   "cell_type": "markdown",
   "metadata": {},
   "source": [
    "#### 변수 이름 중에서 sum 대신에 sum_ 쓰는 이유 : sum은 이미 정의된 녀석인데 파이썬에서는 이것까지 수정할 수 있기 때문."
   ]
  },
  {
   "cell_type": "markdown",
   "metadata": {},
   "source": [
    "### 성능 체크 : %%timeit (여러번 체크해서 평균) , %%time (한번 체크)"
   ]
  },
  {
   "cell_type": "code",
   "execution_count": null,
   "metadata": {},
   "outputs": [],
   "source": [
    "%%time\n",
    "sum_ = 0\n",
    "for i in range(0, 10, 2) :\n",
    "    sum_ = sum_ + i\n",
    "print(sum_)"
   ]
  },
  {
   "cell_type": "code",
   "execution_count": null,
   "metadata": {},
   "outputs": [],
   "source": [
    "xxx = {'a' : 1, 1 : 'a'}\n",
    "\n",
    "for i in xxx : # 딕셔너리에서는 key를 가지고 iteration함\n",
    "    print(i)\n",
    "    \n",
    "for i in xxx.values() : # value값 쓰고 싶을때!\n",
    "    print(i)\n",
    "    \n",
    "for i, j in xxx.items() : # 키, 밸류의 튜플 사용 / '딕셔너리 뷰' / i, j : 언패킹!!!!\n",
    "    print('key', i)\n",
    "    print('value', j)"
   ]
  },
  {
   "cell_type": "markdown",
   "metadata": {},
   "source": [
    "할당 : \n",
    "a = 1\n",
    "a = b = c = 1\n",
    "a +=\n",
    "a, b = 1\n",
    "\n",
    "\n",
    "명령형(변수를 어떻게 할당하고 그 값을 어떻게 변환시키는가) vs 선언적 패러다임"
   ]
  },
  {
   "cell_type": "markdown",
   "metadata": {},
   "source": [
    "#### enumerate : 차례대로, iterable 앞에 써주면 딕셔너리.items( )처럼 쓸 수 있다"
   ]
  },
  {
   "cell_type": "code",
   "execution_count": null,
   "metadata": {},
   "outputs": [],
   "source": [
    "for i in enumerate('abcedf', 1) :\n",
    "    print(i)\n",
    "type(i)"
   ]
  },
  {
   "cell_type": "markdown",
   "metadata": {},
   "source": [
    "#### while"
   ]
  },
  {
   "cell_type": "code",
   "execution_count": 2,
   "metadata": {},
   "outputs": [
    {
     "name": "stdout",
     "output_type": "stream",
     "text": [
      "1\n",
      "2\n",
      "3\n",
      "4\n",
      "5\n",
      "6\n",
      "7\n",
      "8\n",
      "9\n",
      "10\n"
     ]
    }
   ],
   "source": [
    "x = 0\n",
    "\n",
    "while x < 10 :\n",
    "    x += 1\n",
    "    print(x)"
   ]
  },
  {
   "cell_type": "code",
   "execution_count": null,
   "metadata": {},
   "outputs": [],
   "source": []
  }
 ],
 "metadata": {
  "kernelspec": {
   "display_name": "Python 3",
   "language": "python",
   "name": "python3"
  },
  "language_info": {
   "codemirror_mode": {
    "name": "ipython",
    "version": 3
   },
   "file_extension": ".py",
   "mimetype": "text/x-python",
   "name": "python",
   "nbconvert_exporter": "python",
   "pygments_lexer": "ipython3",
   "version": "3.6.5"
  }
 },
 "nbformat": 4,
 "nbformat_minor": 2
}
